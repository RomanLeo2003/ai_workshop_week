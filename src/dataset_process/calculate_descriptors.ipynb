{
 "cells": [
  {
   "cell_type": "code",
   "execution_count": 22,
   "metadata": {},
   "outputs": [],
   "source": [
    "import pandas as pd\n",
    "import numpy as np\n",
    "\n",
    "from Bio.SeqUtils.ProtParam import ProteinAnalysis"
   ]
  },
  {
   "cell_type": "code",
   "execution_count": null,
   "metadata": {},
   "outputs": [],
   "source": [
    "df = pd.read_csv('tcell_full_v3_processed.csv')\n",
    "df.head()"
   ]
  },
  {
   "cell_type": "code",
   "execution_count": 26,
   "metadata": {},
   "outputs": [],
   "source": [
    "def calculate_physchem(sequence):\n",
    "    analysis = ProteinAnalysis(sequence)\n",
    "    features = {\n",
    "        'molecular_weight': analysis.molecular_weight(),\n",
    "        'aromaticity': analysis.aromaticity(),\n",
    "        'ss_helix': analysis.secondary_structure_fraction()[0],\n",
    "        'ss_turn': analysis.secondary_structure_fraction()[1],\n",
    "        'ss_sheet': analysis.secondary_structure_fraction()[2],\n",
    "        'isoelectric_point': analysis.isoelectric_point(),\n",
    "        'gravy': analysis.gravy(),\n",
    "        'molar_extinction': analysis.molar_extinction_coefficient()[0], # with reduced cysteines\n",
    "        'flexibility': np.mean(analysis.flexibility()), # ср знач по всей послд-ти\n",
    "        'instability_index': analysis.instability_index(),\n",
    "        # 'charge_at_pH': analysis.charge_at_pH(pH=7.4) выс лин корр с isoelectric_point\n",
    "    }\n",
    "    return features\n"
   ]
  },
  {
   "cell_type": "code",
   "execution_count": 27,
   "metadata": {},
   "outputs": [],
   "source": [
    "df = pd.concat([df, df['Epitope Seq'].apply(calculate_physchem).apply(pd.Series)], axis=1)"
   ]
  },
  {
   "cell_type": "code",
   "execution_count": 29,
   "metadata": {},
   "outputs": [],
   "source": [
    "from propy import PyPro\n",
    "from joblib import Parallel, delayed\n",
    "from tqdm import tqdm"
   ]
  },
  {
   "cell_type": "code",
   "execution_count": 30,
   "metadata": {},
   "outputs": [],
   "source": [
    "tqdm.pandas() "
   ]
  },
  {
   "cell_type": "markdown",
   "metadata": {},
   "source": [
    "дескрипторы PAAC, APAAC, QSO, shannon_entropy выбраны на основе статьи Meta IL-4"
   ]
  },
  {
   "cell_type": "code",
   "execution_count": null,
   "metadata": {},
   "outputs": [],
   "source": [
    "def get_PAAC(sequence):\n",
    "    DesObject = PyPro.GetProDes(sequence)\n",
    "    DesDescr = DesObject.GetPAAC(lamda=6, weight=0.05)\n",
    "    return list(DesDescr.values())\n",
    "\n",
    "\n",
    "df['PAAC'] = list(\n",
    "    tqdm(\n",
    "        Parallel(return_as=\"generator\", n_jobs=6)(\n",
    "            delayed(get_PAAC)(seq) for seq in df['Epitope Seq']\n",
    "        ),\n",
    "        total=len(df),\n",
    "        desc=\"Processing sequences\"\n",
    "    )\n",
    ")\n",
    "\n",
    "paac_length = len(df['PAAC'].iloc[0])\n",
    "paac_columns = [f'PAAC_{i}' for i in range(paac_length)]\n",
    "paac_expanded = pd.DataFrame(df['PAAC'].tolist(),\n",
    "                            index=df.index,\n",
    "                            columns=paac_columns)\n",
    "\n",
    "df = pd.concat([df, paac_expanded], axis=1)\n",
    "\n",
    "df.drop('PAAC', axis=1, inplace=True)\n",
    "\n",
    "print(df.columns)\n",
    "print(df.shape)"
   ]
  },
  {
   "cell_type": "code",
   "execution_count": null,
   "metadata": {},
   "outputs": [],
   "source": [
    "def get_APAAC(sequence):\n",
    "    DesObject = PyPro.GetProDes(sequence)\n",
    "    DesDescr = DesObject.GetAPAAC(lamda=6, weight=0.05)\n",
    "    return list(DesDescr.values())\n",
    "\n",
    "\n",
    "df['APAAC'] = list(\n",
    "    tqdm(\n",
    "        Parallel(return_as=\"generator\", n_jobs=6)(\n",
    "            delayed(get_APAAC)(seq) for seq in df['Epitope Seq']\n",
    "        ),\n",
    "        total=len(df),\n",
    "        desc=\"Processing sequences\"\n",
    "    )\n",
    ")\n",
    "\n",
    "apaac_length = len(df['APAAC'].iloc[0])\n",
    "apaac_columns = [f'APAAC_{i}' for i in range(apaac_length)]\n",
    "apaac_expanded = pd.DataFrame(df['APAAC'].tolist(),\n",
    "                            index=df.index,\n",
    "                            columns=apaac_columns)\n",
    "\n",
    "df = pd.concat([df, apaac_expanded], axis=1)\n",
    "\n",
    "df.drop('APAAC', axis=1, inplace=True)\n",
    "\n",
    "print(df.columns)\n",
    "print(df.shape)"
   ]
  },
  {
   "cell_type": "code",
   "execution_count": 33,
   "metadata": {},
   "outputs": [
    {
     "name": "stderr",
     "output_type": "stream",
     "text": [
      "Processing sequences: 100%|██████████| 63761/63761 [00:02<00:00, 24280.77it/s]\n"
     ]
    },
    {
     "name": "stdout",
     "output_type": "stream",
     "text": [
      "Index(['MHC Allele', 'Evidence Code', 'MHC Class', 'Epitope ID', 'Epitope Seq',\n",
      "       'Host', 'Antigen Source', 'IL-2 release', 'IL-4 release',\n",
      "       'IL-10 release',\n",
      "       ...\n",
      "       'QSO_90', 'QSO_91', 'QSO_92', 'QSO_93', 'QSO_94', 'QSO_95', 'QSO_96',\n",
      "       'QSO_97', 'QSO_98', 'QSO_99'],\n",
      "      dtype='object', length=121)\n",
      "(63761, 121)\n"
     ]
    }
   ],
   "source": [
    "def get_QSO(sequence):\n",
    "  DesObject = PyPro.GetProDes(sequence)\n",
    "  DesDescr = DesObject.GetQSO()\n",
    "  return list(DesDescr.values())\n",
    "\n",
    "\n",
    "df['QSO'] = list(\n",
    "    tqdm(\n",
    "        Parallel(return_as=\"generator\", n_jobs=6)(\n",
    "            delayed(get_QSO)(seq) for seq in df['Epitope Seq']\n",
    "        ),\n",
    "        total=len(df),\n",
    "        desc=\"Processing sequences\"\n",
    "    )\n",
    ")\n",
    "\n",
    "qso_length = len(df['QSO'].iloc[0])\n",
    "qso_columns = [f'QSO_{i}' for i in range(qso_length)]\n",
    "qso_expanded = pd.DataFrame(df['QSO'].tolist(),\n",
    "                                   index=df.index,\n",
    "                                   columns=qso_columns)\n",
    "\n",
    "df = pd.concat([df, qso_expanded], axis=1)\n",
    "\n",
    "df.drop('QSO', axis=1, inplace=True)\n",
    "\n",
    "print(df.columns)\n",
    "print(df.shape)"
   ]
  },
  {
   "cell_type": "code",
   "execution_count": 34,
   "metadata": {},
   "outputs": [],
   "source": [
    "# Функция для расчета энтропии Шеннона\n",
    "def shannon_entropy(sequence):\n",
    "    freq = pd.Series(list(sequence)).value_counts(normalize=True)\n",
    "    return -np.sum(freq * np.log2(freq))\n",
    "\n",
    "\n",
    "df['shannon_entropy'] = df['Epitope Seq'].apply(shannon_entropy)"
   ]
  },
  {
   "cell_type": "code",
   "execution_count": null,
   "metadata": {},
   "outputs": [],
   "source": [
    "cols_to_drop = ['MHC Allele', \n",
    "                'Evidence Code', \n",
    "                'MHC Class',\n",
    "                'Host', \n",
    "                'Antigen Source']\n",
    "\n",
    "df.drop(cols_to_drop, axis=1, inplace=True)"
   ]
  }
 ],
 "metadata": {
  "kernelspec": {
   "display_name": "Python 3",
   "language": "python",
   "name": "python3"
  },
  "language_info": {
   "codemirror_mode": {
    "name": "ipython",
    "version": 3
   },
   "file_extension": ".py",
   "mimetype": "text/x-python",
   "name": "python",
   "nbconvert_exporter": "python",
   "pygments_lexer": "ipython3",
   "version": "3.11.11"
  }
 },
 "nbformat": 4,
 "nbformat_minor": 2
}
